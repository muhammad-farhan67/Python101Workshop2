{
  "cells": [
    {
      "cell_type": "markdown",
      "metadata": {
        "id": "view-in-github",
        "colab_type": "text"
      },
      "source": [
        "<a href=\"https://colab.research.google.com/github/muhammad-farhan67/Python101Workshop2/blob/main/Python101Workshop2.ipynb\" target=\"_parent\"><img src=\"https://colab.research.google.com/assets/colab-badge.svg\" alt=\"Open In Colab\"/></a>"
      ]
    },
    {
      "cell_type": "markdown",
      "metadata": {
        "id": "q-PsMXOJzuES"
      },
      "source": [
        "# Python Simplfied Learn to Code Fast\n",
        "\n",
        "---\n",
        "\n",
        "## 1. Introduction to Python\n",
        "\n",
        "Python is a programming language - a way to give instructions to computers. Imagine you're learning a new language, but instead of talking to people, you're talking to computers. That's what Python is all about!\n",
        "\n",
        "### What makes Python special?\n",
        "\n",
        "1. **Easy to read and write**: Python uses simple English-like words and symbols. This makes it easier to understand, even for beginners.\n",
        "\n",
        "2. **Versatile**: You can use Python for many different tasks. Want to make a website? Analyze data? Create a game? Python can do all of these and more!\n",
        "\n",
        "3. **Beginner-friendly**: Python was designed to be easy for newcomers. It doesn't have complicated rules that some other programming languages have.\n",
        "\n",
        "4. **Widely used**: Many big companies like Google, Netflix, and NASA use Python. This means there are lots of job opportunities for Python programmers.\n",
        "\n",
        "5. **Great community**: Lots of people use Python, so it's easy to find help when you're stuck. There are many online resources, tutorials, and forums dedicated to Python.\n",
        "\n",
        "### What can you do with Python?\n",
        "\n",
        "- Build websites and web applications\n",
        "- Analyze and visualize data\n",
        "- Create games\n",
        "- Develop artificial intelligence and machine learning programs\n",
        "- Automate repetitive tasks\n",
        "\n",
        "Python is like a Swiss Army knife for programmers. It's a great first language to learn because it introduces you to programming concepts in a friendly way. As you learn Python, you'll discover how to think like a programmer and solve problems step by step.\n",
        "\n",
        "Remember, everyone starts as a beginner. With practice and patience, you'll be writing Python code in no time!"
      ]
    },
    {
      "cell_type": "markdown",
      "metadata": {
        "id": "N5Bk9WUFzxO9"
      },
      "source": [
        "## 2. Variables and Data Types\n",
        "\n",
        "### 2.1 Variables\n",
        "A **variable** in Python is a container for storing data values. There’s no need to declare the type of variable beforehand.\n",
        "- Use meaningful names for variables\n",
        "- Case-sensitive (age and Age are different variables)"
      ]
    },
    {
      "cell_type": "code",
      "source": [
        "age = 20\n",
        "\n",
        "print(age) # This will show what's in the \"age\" box"
      ],
      "metadata": {
        "id": "f0IFyFli_znp"
      },
      "execution_count": null,
      "outputs": []
    },
    {
      "cell_type": "code",
      "execution_count": null,
      "metadata": {
        "id": "k_YI85y40W32"
      },
      "outputs": [],
      "source": [
        "print(\"Hello, World\")"
      ]
    },
    {
      "cell_type": "markdown",
      "metadata": {
        "id": "bfV485Wj0hek"
      },
      "source": [
        "**Real-world Example:** Think of a variable as a box in which you can store information like the name of a person, their age, or their height.\n",
        "\n",
        "Think of variables like labeled boxes where you can store different things. In Python, these boxes can hold numbers, words, or other types of information."
      ]
    },
    {
      "cell_type": "markdown",
      "source": [
        "\n",
        "### 2. **Most Common Function**\n",
        "\n",
        "#### **Input and Output**\n",
        "\n",
        "- **`input()` Function:**\n",
        "  - Used to take input from the user.\n",
        "  - It always returns the input as a string.\n",
        "\n",
        "  **Example:**\n",
        "  ```python\n",
        "\n",
        "  ```\n",
        "\n",
        "- **`print()` Function:**\n",
        "  - Used to display output on the screen.\n",
        "  - Can output strings, variables, and expressions.\n",
        "\n",
        "  **Example:**\n",
        "  ```python\n",
        "  print(\"Hello, \" + name + \"!\")\n",
        "  print(\"You are \" + age + \" years old.\")\n",
        "  ```\n",
        "\n",
        "In the example above, `input()` gathers user input, and `print()` displays the message using the input values."
      ],
      "metadata": {
        "id": "z1ictdok9vwC"
      }
    },
    {
      "cell_type": "code",
      "source": [],
      "metadata": {
        "id": "EYcTUzR6PZd-"
      },
      "execution_count": null,
      "outputs": []
    },
    {
      "cell_type": "markdown",
      "metadata": {
        "id": "Mu4-Tv610xRc"
      },
      "source": [
        "## 2.2 Data Types\n",
        "Just like in real life, we have different types of things – numbers, words, lists of items, etc. In Python, we call these different types of data \"data types\".\n",
        "\n",
        "Python has different types of data you can store in variables. Here are some common ones:\n",
        "\n",
        "- String (str): Text data. Example: \"Hello\"\n",
        "- Integer (int): Whole numbers. Example: 42\n",
        "- Float (float): Decimal numbers. Example: 3.14\n",
        "- Boolean (bool): True or False values. Example: True\n"
      ]
    },
    {
      "cell_type": "code",
      "execution_count": null,
      "metadata": {
        "id": "FWp2DfWo0q6L"
      },
      "outputs": [],
      "source": [
        "# customer_name = \"Alice\"\n",
        "# customer_age = 30\n",
        "customer_weight = 65.5\n",
        "# is_member = True\n",
        "# # Check the type of a variable\n",
        "# print(type(customer_name))\n",
        "# print(type(customer_age))\n",
        "print(type(customer_weight))\n",
        "# print(type(is_member))\n"
      ]
    },
    {
      "cell_type": "code",
      "execution_count": null,
      "metadata": {
        "id": "FV2vDi0_M5Kx"
      },
      "outputs": [],
      "source": []
    },
    {
      "cell_type": "markdown",
      "source": [
        "## Comments in Python\n",
        "\n",
        "### What are Comments?\n",
        "\n",
        "Comments are lines in your code that Python ignores during execution. They are used to explain what the code does, making it easier for others (and yourself) to understand and maintain the code.\n",
        "\n",
        "### Why Do We Need Comments?\n",
        "\n",
        "- **Improve readability:** Explain complex logic or decisions.\n",
        "- **Serve as documentation:** Provide context and purpose of the code.\n",
        "- **Aid in debugging:** Temporarily disable parts of the code.\n",
        "- **Enhance collaboration:** Help others understand your code.\n",
        "\n",
        "### Types of Comments\n",
        "\n",
        "1. **Single-line Comments:**\n",
        "   - Start with `#`. Example:\n",
        "     ```python\n",
        "     # This is a single-line comment\n",
        "     x = 42  # Inline comment\n",
        "     ```\n",
        "\n",
        "2. **Multi-line Comments:**\n",
        "   - **Multiple `#` symbols:** Example:\n",
        "     ```python\n",
        "     # This is a multi-line comment\n",
        "     # using the `#` symbol at the beginning\n",
        "     # of each line.\n",
        "     ```\n",
        "   - **Triple quotes (`\"\"\"` or `'''`):** Example:\n",
        "     ```python\n",
        "     \"\"\"\n",
        "     This is a multi-line comment\n",
        "     using triple quotes.\n",
        "     \"\"\"\n",
        "     ```\n",
        "\n",
        "### Best Practices\n",
        "\n",
        "- Be clear and concise.\n",
        "- Focus on explaining why, not what.\n",
        "- Keep comments up to date.\n"
      ],
      "metadata": {
        "id": "QOgOkw167VQE"
      }
    },
    {
      "cell_type": "markdown",
      "metadata": {
        "id": "jmgxTxViEpy-"
      },
      "source": [
        "### 2.3 Type Conversion\n",
        "Python allows you to convert between different data types:"
      ]
    },
    {
      "cell_type": "code",
      "execution_count": null,
      "metadata": {
        "id": "dNq73qiUEsyC"
      },
      "outputs": [],
      "source": [
        "# Type conversion examples\n",
        "x = 5\n",
        "y = 2.5\n",
        "z = \"10\"\n",
        "# x = float(x)\n",
        "# print(type(z))\n",
        "# print(float(x))\n",
        "# print(type(float(x)))\n",
        "# print(type(x))\n",
        "   # Convert int to float\n",
        "# print(int(y))      # Convert float to int\n",
        "z = (int(z))      # Convert string to int\n",
        "# print(str(x))      # Convert int to string\n",
        "\n",
        "z = z+3\n",
        "print(z)\n"
      ]
    },
    {
      "cell_type": "code",
      "execution_count": null,
      "metadata": {
        "id": "ENaHX8HZYEpy"
      },
      "outputs": [],
      "source": []
    },
    {
      "cell_type": "markdown",
      "metadata": {
        "id": "qG26en8512Ou"
      },
      "source": [
        "## 3. Operators"
      ]
    },
    {
      "cell_type": "markdown",
      "metadata": {
        "id": "2pKfPNRC1Kcj"
      },
      "source": [
        "\n",
        "### 3.1  Arithmetic Operators\n",
        "Arithmetic operators perform basic math operations."
      ]
    },
    {
      "cell_type": "code",
      "execution_count": null,
      "metadata": {
        "id": "KMmVagQm1KCB"
      },
      "outputs": [],
      "source": [
        "# Example:\n",
        "x = -10\n",
        "y = 3\n",
        "# z = x + y\n",
        "# print(z)  # Addition: 13\n",
        "# print(x - y)  # Subtraction: 7\n",
        "# print(x * y)  # Multiplication: 30\n",
        "# print(x / y)  # Division  or Float Division: 3.33\n",
        "# print(x // y)  # Floor Division: 3 (returns integer)\n",
        "# print(x % y)  # Modulus: 1 (remainder of division)\n",
        "print(x ** y)  # Exponentiation: 1000 (10^3)\n"
      ]
    },
    {
      "cell_type": "markdown",
      "metadata": {
        "id": "4HX2xUHe1o5R"
      },
      "source": [
        "### 3.2 Comparison Operators\n",
        "These compare two values and return either True or False."
      ]
    },
    {
      "cell_type": "code",
      "execution_count": null,
      "metadata": {
        "id": "n507H02C1nOI"
      },
      "outputs": [],
      "source": [
        "# Example:\n",
        "a = 5\n",
        "b = 10\n",
        "c = 3\n",
        "# print(a > b)   # False\n",
        "# print(a < b)   # True\n",
        "# print(a != b)  # False\n",
        "print(not(a > b or b > c ))"
      ]
    },
    {
      "cell_type": "markdown",
      "metadata": {
        "id": "C4qodCWU2MvN"
      },
      "source": [
        "### 3.3 Logical Operators\n",
        "Logical operators are used to combine conditions.\n",
        "\n",
        "- and: True if both conditions are true.\n",
        "- or: True if at least one condition is true.\n",
        "- not: Reverses the result of the condition."
      ]
    },
    {
      "cell_type": "code",
      "execution_count": null,
      "metadata": {
        "id": "rVbbhJRV2UP6"
      },
      "outputs": [],
      "source": [
        "# Example:\n",
        "x = True\n",
        "y = False\n",
        "\n",
        " # False\n",
        "# print(x or y)   # True\n",
        "print(not x)    # False\n"
      ]
    },
    {
      "cell_type": "markdown",
      "metadata": {
        "id": "QXiQWIc1FS-y"
      },
      "source": [
        "### 3.4 Assignment Operators\n",
        "Assignment operators are used to assign values to variables.\n",
        "\n",
        "- = : Simple assignment\n",
        "- += : Add and assign\n",
        "- -= : Subtract and assign\n",
        "- *= : Multiply and assign\n",
        "- /= : Divide and assign"
      ]
    },
    {
      "cell_type": "code",
      "execution_count": null,
      "metadata": {
        "id": "pUIEIMVtfOcQ"
      },
      "outputs": [],
      "source": [
        "z = 7\n",
        "z //= 3\n",
        "print(z)"
      ]
    },
    {
      "cell_type": "markdown",
      "metadata": {
        "id": "cPJkKQQ72XUD"
      },
      "source": [
        "## 4. Control Flow"
      ]
    },
    {
      "cell_type": "markdown",
      "metadata": {
        "id": "iOsDTO_Q2eJb"
      },
      "source": [
        "### 4.1 If-Else Statements\n",
        "These are like the decisions you make every day based on certain conditions.\n",
        "Real-life example: Deciding what to wear based on the weather"
      ]
    },
    {
      "cell_type": "code",
      "execution_count": null,
      "metadata": {
        "id": "cOmFwyMd2i12"
      },
      "outputs": [],
      "source": [
        "temperature = 50\n",
        "\n",
        "if temperature > 30:\n",
        "    print(\"It's very hot! Wear light clothes and sunscreen.\")\n",
        "elif temperature > 20:\n",
        "    print(\"It's warm. A t-shirt should be fine.\")\n",
        "elif temperature > 10:\n",
        "    print(\"It's cool. You might need a jacket.\")\n",
        "else:\n",
        "    print(\"It's cold! Wear a warm coat.\")\n",
        "# # Example:\n",
        "# age = 20\n",
        "\n",
        "# if age >= 18:\n",
        "#     print(\"You are an adult\")\n",
        "# else:\n",
        "#     print(\"You are a minor\")\n"
      ]
    },
    {
      "cell_type": "markdown",
      "metadata": {
        "id": "1okI-jrt2yTT"
      },
      "source": [
        "### 4.2 For Loop\n",
        "A for loop is used to iterate over sequences (like a list or range) and repeat a block of code for each item."
      ]
    },
    {
      "cell_type": "code",
      "execution_count": null,
      "metadata": {
        "id": "91AOSHeZNB9m"
      },
      "outputs": [],
      "source": [
        "for i in range(0,21,2):\n",
        "  # print(i)"
      ]
    },
    {
      "cell_type": "code",
      "execution_count": null,
      "metadata": {
        "id": "02IWEt_aM-Sq"
      },
      "outputs": [],
      "source": []
    },
    {
      "cell_type": "code",
      "execution_count": null,
      "metadata": {
        "id": "wX1gHlsk2m8w"
      },
      "outputs": [],
      "source": [
        "# Example: Looping over a list of fruits\n",
        "fruits = [\"apple\", \"banana\", \"cherry\"]\n",
        "\n",
        "for fruit in fruits:\n",
        "    print(fruit)\n"
      ]
    },
    {
      "cell_type": "markdown",
      "metadata": {
        "id": "TPNuaT6r28A-"
      },
      "source": [
        "**Real-world Example:** If you have a list of customers in a store, you can loop through each customer to print their details or calculate their total bill."
      ]
    },
    {
      "cell_type": "markdown",
      "metadata": {
        "id": "swR0xs_f3D9r"
      },
      "source": []
    },
    {
      "cell_type": "markdown",
      "metadata": {
        "id": "Qc4C4ihq3IGG"
      },
      "source": [
        "### 4.3 While Loop\n",
        "A while loop repeats a block of code as long as a condition is true."
      ]
    },
    {
      "cell_type": "code",
      "execution_count": null,
      "metadata": {
        "id": "bzCnc2XH27eS"
      },
      "outputs": [],
      "source": [
        "# Example: Counting down from 5\n",
        "count = 5\n",
        "while count > 0:\n",
        "    print(count)\n",
        "    count -= 1\n"
      ]
    },
    {
      "cell_type": "markdown",
      "metadata": {
        "id": "UdD1SzNYBoMy"
      },
      "source": [
        "### 4.4 Break and Continue Statements\n",
        "\n",
        "`break`: Exits the current loop\n",
        "\n",
        "`continue`: Skips the rest of the current iteration and moves to the next one"
      ]
    },
    {
      "cell_type": "code",
      "execution_count": null,
      "metadata": {
        "id": "bQlFAjjkB2zd"
      },
      "outputs": [],
      "source": [
        "# # Using break\n",
        "# for i in range(10):\n",
        "#     if i == 5:\n",
        "#         break\n",
        "#     print(i)\n",
        "\n",
        "# Using continue\n",
        "for i in range(5):\n",
        "    if i == 2:\n",
        "        continue\n",
        "    print(i)"
      ]
    },
    {
      "cell_type": "code",
      "execution_count": null,
      "metadata": {
        "id": "HVJ1iqpNNHjv"
      },
      "outputs": [],
      "source": []
    },
    {
      "cell_type": "markdown",
      "metadata": {
        "id": "mJJ7X2VJ3isO"
      },
      "source": [
        "## 5. Data Structures"
      ]
    },
    {
      "cell_type": "markdown",
      "metadata": {
        "id": "ltj8vgem3NjZ"
      },
      "source": [
        "### 5.1 Lists\n",
        "Lists are like a row of boxes where you can store different items. You can add, remove, or change items in the list.\n",
        "\n",
        "Lists are ordered, mutable sequences. They are one of the most versatile data structures in Python.\n",
        "\n",
        "**Key features:**\n",
        "\n",
        "- Created using square brackets [ ]\n",
        "- Can contain items of different types\n",
        "- Mutable (can be changed after creation)\n",
        "- Accessed by index (starting from 0)"
      ]
    },
    {
      "cell_type": "code",
      "execution_count": null,
      "metadata": {
        "id": "AuJPVrhVmXAB"
      },
      "outputs": [],
      "source": [
        "color1 = \"blue\"\n",
        "color1 = \"red\"\n",
        "color1 = \"yellow\"\n",
        "color1 = \"black\"\n",
        "color1 = \"blue\"\n",
        "\n",
        "color = [\"blue\",\"red\",\"yellow\"]\n",
        "\n",
        "print(color)"
      ]
    },
    {
      "cell_type": "code",
      "execution_count": null,
      "metadata": {
        "id": "OXQFUhvf3lC1"
      },
      "outputs": [],
      "source": [
        "# Creating a list\n",
        "fruits = [\"apple\", \"banana\", \"cherry\"]\n",
        "\n",
        "# Accessing elements\n",
        "# print(fruits[2])  # Output: apple\n",
        "\n",
        "# Modifying elements\n",
        "# fruits[1] = \"blueberry\"\n",
        "# print(fruits)  # Output: ['apple', 'blueberry', 'cherry']\n",
        "\n",
        "# # # Adding elements\n",
        "# fruits.append(\"date\")\n",
        "# print(fruits)  # Output: ['apple', 'blueberry', 'cherry', 'date']\n",
        "\n",
        "# Removing elements\n",
        "# fruits.remove(\"cherry\")\n",
        "# print(fruits)  # Output: ['apple', 'blueberry', 'date']\n",
        "\n",
        "# List length\n",
        "print(len(fruits))  # Output: 3\n",
        "\n",
        "# # List slicing\n",
        "# print(fruits[1:3])  # Output: ['blueberry', 'date']\n"
      ]
    },
    {
      "cell_type": "markdown",
      "metadata": {
        "id": "XEtS5T5k3o2f"
      },
      "source": [
        "### **Pros:**\n",
        "\n",
        "- Can store multiple data types.\n",
        "- Easy to modify.\n",
        "\n",
        "### **Cons:**\n",
        "\n",
        "- Slower for large datasets compared to sets.\n",
        "\n",
        " **Real-world Example:** If you have a shopping list, you can store the items as a list and add/remove items as needed."
      ]
    },
    {
      "cell_type": "markdown",
      "metadata": {
        "id": "mykjALnY4DSa"
      },
      "source": [
        "### 5.2 Tuples\n",
        "Tuples are ordered, immutable sequences. Tuples are like lists, but once you create them, you can't change them. They're useful for data that shouldn't change.\n",
        "\n",
        "**Key features:**\n",
        "\n",
        "- Created using parentheses ()\n",
        "- Can contain items of different types\n",
        "- Immutable (cannot be changed after creation)\n",
        "- Accessed by index (starting from 0)"
      ]
    },
    {
      "cell_type": "code",
      "execution_count": null,
      "metadata": {
        "id": "XZxnm_qI4ISE"
      },
      "outputs": [],
      "source": [
        "# Creating a tuple\n",
        "coordinates = (4, 5)\n",
        "\n",
        "# Accessing elements\n",
        "print(coordinates[0])  # Output: 4\n",
        "\n",
        "# Tuples are immutable\n",
        "# This will raise an error:\n",
        "# coordinates[0] = 2\n",
        "\n",
        "# Tuple packing and unpacking\n",
        "x, y = coordinates\n",
        "print(x, y)  # Output: 4 5\n"
      ]
    },
    {
      "cell_type": "markdown",
      "metadata": {
        "id": "z4tykypX4Qxu"
      },
      "source": [
        "### **Pros:**\n",
        "\n",
        "- Faster than lists for reading data.\n",
        "- Useful for fixed data like GPS coordinates.\n",
        "### **Cons:**\n",
        "\n",
        "- Cannot modify elements once created.\n",
        "\n",
        "**Real-world Example:** If you store fixed information like geographical coordinates or dates of birth, use a tuple."
      ]
    },
    {
      "cell_type": "markdown",
      "metadata": {
        "id": "uKaSs6dp4RbZ"
      },
      "source": [
        "### 5.3 Sets\n",
        "A set is an unordered collection of unique items."
      ]
    },
    {
      "cell_type": "code",
      "execution_count": null,
      "metadata": {
        "id": "PaGmUdyT4MLi"
      },
      "outputs": [],
      "source": [
        "# Example:\n",
        "unique_numbers = {1, 2, 3, 4, 4, 5}\n",
        "\n",
        "# Adding an item\n",
        "unique_numbers.add(6)\n",
        "\n",
        "# Removing an item\n",
        "unique_numbers.remove(3)\n"
      ]
    },
    {
      "cell_type": "markdown",
      "metadata": {
        "id": "6cnd3s704jwU"
      },
      "source": [
        "### Pros:\n",
        "\n",
        "- Fast operations like adding or checking items.\n",
        "- Ensures uniqueness.\n",
        "\n",
        "### Cons:\n",
        "\n",
        "- Unordered, so you cannot access elements by index.\n",
        "\n",
        "**Real-world Example:** You can use sets to keep track of unique items, like a list of unique customer IDs."
      ]
    },
    {
      "cell_type": "markdown",
      "metadata": {
        "id": "1ppPNmZl4zNY"
      },
      "source": [
        "### 5.4 Dictionaries\n",
        "Dictionaries are unordered collections of key-value pairs.\n",
        "\n",
        "**Key features:**\n",
        "\n",
        "- Created using curly braces {}\n",
        "- Consist of key-value pairs\n",
        "- Keys must be unique and immutable\n",
        "- Values can be of any type\n",
        "- Accessed by key, not index"
      ]
    },
    {
      "cell_type": "code",
      "execution_count": null,
      "metadata": {
        "id": "KInG8Fqn43eI"
      },
      "outputs": [],
      "source": [
        "# Creating a dictionary\n",
        "person = {\n",
        "    \"name\": \"Alice\",\n",
        "    \"age\": 30,\n",
        "    \"city\": \"New York\"\n",
        "}\n",
        "\n",
        "# Accessing values\n",
        "print(person[\"name\"])  # Output: Alice\n",
        "\n",
        "# Modifying values\n",
        "person[\"age\"] = 31\n",
        "print(person)\n",
        "\n",
        "# Adding new key-value pairs\n",
        "person[\"job\"] = \"Engineer\"\n",
        "print(person)\n",
        "\n",
        "# Removing key-value pairs\n",
        "del person[\"city\"]\n",
        "print(person)\n",
        "\n",
        "# Dictionary methods\n",
        "print(person.keys())\n",
        "print(person.values())\n",
        "print(person.items())\n"
      ]
    },
    {
      "cell_type": "markdown",
      "metadata": {
        "id": "LqpER23z47l7"
      },
      "source": [
        "### Pros:\n",
        "\n",
        "- Fast lookups by key.\n",
        "- Highly flexible for organizing data.\n",
        "\n",
        "### Cons:\n",
        "\n",
        "-  Keys must be unique.\n",
        "\n",
        "**Real-world Example:** If you want to store information about a person, like their name, age, and city, you can use a dictionary."
      ]
    },
    {
      "cell_type": "markdown",
      "metadata": {
        "id": "l1KS7Nn-5N3_"
      },
      "source": [
        "## 6. Functions\n"
      ]
    },
    {
      "cell_type": "markdown",
      "metadata": {
        "id": "hrGiz2QV5YOf"
      },
      "source": [
        "### 6.1 Defining and Using Functions\n",
        "A function is a reusable block of code that performs a specific task."
      ]
    },
    {
      "cell_type": "code",
      "execution_count": null,
      "metadata": {
        "id": "FkMLqVfI5a5J"
      },
      "outputs": [],
      "source": [
        "# Example: A simple function to greet a user\n",
        "def greet_user(name):\n",
        "    print(f\"Hello, {name}!\")\n",
        "\n",
        "greet_user(\"Alice\")  # Output: Hello, Alice!\n"
      ]
    },
    {
      "cell_type": "markdown",
      "metadata": {
        "id": "IfChxBR-5cq9"
      },
      "source": [
        "**Real-world Example:** Imagine you have a business where you frequently need to send greeting messages to customers. A function can simplify this repetitive task."
      ]
    },
    {
      "cell_type": "markdown",
      "metadata": {
        "id": "_2jaSliM5lD9"
      },
      "source": [
        "### 6.2 Functions with Return Values\n",
        "Functions can return values that you can store or use later."
      ]
    },
    {
      "cell_type": "code",
      "execution_count": null,
      "metadata": {
        "id": "z5y_v9d75vrc"
      },
      "outputs": [],
      "source": [
        "# Example: A function to calculate the area of a rectangle\n",
        "def calculate_area(width, height):\n",
        "    return width * height\n",
        "\n",
        "area = calculate_area(5, 10)\n",
        "print(area)  # Output: 50\n"
      ]
    },
    {
      "cell_type": "markdown",
      "source": [],
      "metadata": {
        "id": "FrH-Krd1kbWE"
      }
    }
  ],
  "metadata": {
    "colab": {
      "provenance": [],
      "include_colab_link": true
    },
    "kernelspec": {
      "display_name": "Python 3",
      "name": "python3"
    },
    "language_info": {
      "name": "python"
    }
  },
  "nbformat": 4,
  "nbformat_minor": 0
}